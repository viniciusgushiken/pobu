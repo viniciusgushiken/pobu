{
 "cells": [
  {
   "cell_type": "code",
   "execution_count": 45,
   "id": "0fabfc95-c77a-4916-9a61-993a3e832f75",
   "metadata": {},
   "outputs": [],
   "source": [
    "import requests\n",
    "import pandas as pd\n",
    "import getpass"
   ]
  },
  {
   "cell_type": "code",
   "execution_count": 46,
   "id": "72dbfc6f-6f89-46ee-ab61-d25bc26ea633",
   "metadata": {},
   "outputs": [
    {
     "name": "stdin",
     "output_type": "stream",
     "text": [
      " ································\n"
     ]
    }
   ],
   "source": [
    "api_key = getpass.getpass()"
   ]
  },
  {
   "cell_type": "code",
   "execution_count": 47,
   "id": "ca4b4d85-7a23-4c88-a087-42d0ab603f35",
   "metadata": {},
   "outputs": [],
   "source": [
    "# URL, uma espécie de caminho que indica onde um recurso pode ser encontrado\n",
    "url = \"http://api.portaldatransparencia.gov.br/api-de-dados/auxilio-emergencial-por-municipio\""
   ]
  },
  {
   "cell_type": "code",
   "execution_count": 48,
   "id": "abb3f642-9bf1-47cd-8f81-1a25a813ec24",
   "metadata": {},
   "outputs": [],
   "source": [
    "headers = {\"chave-api-dados\" : api_key}"
   ]
  },
  {
   "cell_type": "code",
   "execution_count": 49,
   "id": "34f8616a-fdd6-49bc-88ef-57528a5f492c",
   "metadata": {},
   "outputs": [],
   "source": [
    "# Captura o período a ser consultado, formato AAAAMM\n",
    "mesAno = 202003\n",
    "# Captura o código IBGE\n",
    "codigoIbge = 3550308\n",
    "# Valor fixo na consulta, já que o serviço retorna somente uma página\n",
    "pagina = 1\n",
    "# Cria o dicionário com as informações capturadas\n",
    "params = {'mesAno':mesAno, 'codigoIbge':codigoIbge, 'pagina':pagina}\n",
    "\n",
    "responses = []\n",
    "for i in range(4,13):\n",
    "    mesAno += 1\n",
    "    # Cria o dicionário com as informações capturadas\n",
    "    params = {'mesAno':mesAno, 'codigoIbge':codigoIbge, 'pagina':pagina}\n",
    "    response = requests.get(url, params=params, headers=headers)\n",
    "    responses.append(response.json())"
   ]
  },
  {
   "cell_type": "code",
   "execution_count": 51,
   "id": "2180203f-5120-4f20-9e1c-d2774b147c62",
   "metadata": {},
   "outputs": [
    {
     "data": {
      "text/plain": [
       "[[{'id': 138009075,\n",
       "   'dataReferencia': '2020-04-01',\n",
       "   'municipio': {'codigoIBGE': '3550308',\n",
       "    'nomeIBGE': 'SÃO PAULO',\n",
       "    'codigoRegiao': '3',\n",
       "    'nomeRegiao': 'SUDESTE',\n",
       "    'pais': 'BRASIL',\n",
       "    'uf': {'sigla': 'SP', 'nome': 'SÃO PAULO'}},\n",
       "   'tipo': {'id': 6,\n",
       "    'descricao': 'Auxílio Emergencial',\n",
       "    'descricaoDetalhada': 'Auxílio Emergencial'},\n",
       "   'valor': 1684330800.0,\n",
       "   'quantidadeBeneficiados': 2342946}],\n",
       " [{'id': 155008046,\n",
       "   'dataReferencia': '2020-05-01',\n",
       "   'municipio': {'codigoIBGE': '3550308',\n",
       "    'nomeIBGE': 'SÃO PAULO',\n",
       "    'codigoRegiao': '3',\n",
       "    'nomeRegiao': 'SUDESTE',\n",
       "    'pais': 'BRASIL',\n",
       "    'uf': {'sigla': 'SP', 'nome': 'SÃO PAULO'}},\n",
       "   'tipo': {'id': 6,\n",
       "    'descricao': 'Auxílio Emergencial',\n",
       "    'descricaoDetalhada': 'Auxílio Emergencial'},\n",
       "   'valor': 2105451000.0,\n",
       "   'quantidadeBeneficiados': 2933053}],\n",
       " [{'id': 130308644,\n",
       "   'dataReferencia': '2020-06-01',\n",
       "   'municipio': {'codigoIBGE': '3550308',\n",
       "    'nomeIBGE': 'SÃO PAULO',\n",
       "    'codigoRegiao': '3',\n",
       "    'nomeRegiao': 'SUDESTE',\n",
       "    'pais': 'BRASIL',\n",
       "    'uf': {'sigla': 'SP', 'nome': 'SÃO PAULO'}},\n",
       "   'tipo': {'id': 6,\n",
       "    'descricao': 'Auxílio Emergencial',\n",
       "    'descricaoDetalhada': 'Auxílio Emergencial'},\n",
       "   'valor': 1219118400.0,\n",
       "   'quantidadeBeneficiados': 1669838}],\n",
       " [{'id': 137307967,\n",
       "   'dataReferencia': '2020-07-01',\n",
       "   'municipio': {'codigoIBGE': '3550308',\n",
       "    'nomeIBGE': 'SÃO PAULO',\n",
       "    'codigoRegiao': '3',\n",
       "    'nomeRegiao': 'SUDESTE',\n",
       "    'pais': 'BRASIL',\n",
       "    'uf': {'sigla': 'SP', 'nome': 'SÃO PAULO'}},\n",
       "   'tipo': {'id': 6,\n",
       "    'descricao': 'Auxílio Emergencial',\n",
       "    'descricaoDetalhada': 'Auxílio Emergencial'},\n",
       "   'valor': 2182657200.0,\n",
       "   'quantidadeBeneficiados': 3094997}],\n",
       " [{'id': 148508521,\n",
       "   'dataReferencia': '2020-08-01',\n",
       "   'municipio': {'codigoIBGE': '3550308',\n",
       "    'nomeIBGE': 'SÃO PAULO',\n",
       "    'codigoRegiao': '3',\n",
       "    'nomeRegiao': 'SUDESTE',\n",
       "    'pais': 'BRASIL',\n",
       "    'uf': {'sigla': 'SP', 'nome': 'SÃO PAULO'}},\n",
       "   'tipo': {'id': 6,\n",
       "    'descricao': 'Auxílio Emergencial',\n",
       "    'descricaoDetalhada': 'Auxílio Emergencial'},\n",
       "   'valor': 1912524600.0,\n",
       "   'quantidadeBeneficiados': 2687012}],\n",
       " [{'id': 137808372,\n",
       "   'dataReferencia': '2020-09-01',\n",
       "   'municipio': {'codigoIBGE': '3550308',\n",
       "    'nomeIBGE': 'SÃO PAULO',\n",
       "    'codigoRegiao': '3',\n",
       "    'nomeRegiao': 'SUDESTE',\n",
       "    'pais': 'BRASIL',\n",
       "    'uf': {'sigla': 'SP', 'nome': 'SÃO PAULO'}},\n",
       "   'tipo': {'id': 6,\n",
       "    'descricao': 'Auxílio Emergencial',\n",
       "    'descricaoDetalhada': 'Auxílio Emergencial'},\n",
       "   'valor': 1963493710.0,\n",
       "   'quantidadeBeneficiados': 3240283}],\n",
       " [{'id': 152508316,\n",
       "   'dataReferencia': '2020-10-01',\n",
       "   'municipio': {'codigoIBGE': '3550308',\n",
       "    'nomeIBGE': 'SÃO PAULO',\n",
       "    'codigoRegiao': '3',\n",
       "    'nomeRegiao': 'SUDESTE',\n",
       "    'pais': 'BRASIL',\n",
       "    'uf': {'sigla': 'SP', 'nome': 'SÃO PAULO'}},\n",
       "   'tipo': {'id': 6,\n",
       "    'descricao': 'Auxílio Emergencial',\n",
       "    'descricaoDetalhada': 'Auxílio Emergencial'},\n",
       "   'valor': 1256742402.0,\n",
       "   'quantidadeBeneficiados': 2893709}],\n",
       " [{'id': 155807511,\n",
       "   'dataReferencia': '2020-11-01',\n",
       "   'municipio': {'codigoIBGE': '3550308',\n",
       "    'nomeIBGE': 'SÃO PAULO',\n",
       "    'codigoRegiao': '3',\n",
       "    'nomeRegiao': 'SUDESTE',\n",
       "    'pais': 'BRASIL',\n",
       "    'uf': {'sigla': 'SP', 'nome': 'SÃO PAULO'}},\n",
       "   'tipo': {'id': 6,\n",
       "    'descricao': 'Auxílio Emergencial',\n",
       "    'descricaoDetalhada': 'Auxílio Emergencial'},\n",
       "   'valor': 1644342682.0,\n",
       "   'quantidadeBeneficiados': 3048909}],\n",
       " [{'id': 135708140,\n",
       "   'dataReferencia': '2020-12-01',\n",
       "   'municipio': {'codigoIBGE': '3550308',\n",
       "    'nomeIBGE': 'SÃO PAULO',\n",
       "    'codigoRegiao': '3',\n",
       "    'nomeRegiao': 'SUDESTE',\n",
       "    'pais': 'BRASIL',\n",
       "    'uf': {'sigla': 'SP', 'nome': 'SÃO PAULO'}},\n",
       "   'tipo': {'id': 6,\n",
       "    'descricao': 'Auxílio Emergencial',\n",
       "    'descricaoDetalhada': 'Auxílio Emergencial'},\n",
       "   'valor': 1489903888.0,\n",
       "   'quantidadeBeneficiados': 2947039}]]"
      ]
     },
     "execution_count": 51,
     "metadata": {},
     "output_type": "execute_result"
    }
   ],
   "source": [
    "responses"
   ]
  },
  {
   "cell_type": "code",
   "execution_count": null,
   "id": "ccd23093-7d26-4813-805a-e62536cd8fb9",
   "metadata": {},
   "outputs": [],
   "source": []
  }
 ],
 "metadata": {
  "kernelspec": {
   "display_name": "Python 3 (ipykernel)",
   "language": "python",
   "name": "python3"
  },
  "language_info": {
   "codemirror_mode": {
    "name": "ipython",
    "version": 3
   },
   "file_extension": ".py",
   "mimetype": "text/x-python",
   "name": "python",
   "nbconvert_exporter": "python",
   "pygments_lexer": "ipython3",
   "version": "3.9.7"
  },
  "toc-autonumbering": true
 },
 "nbformat": 4,
 "nbformat_minor": 5
}
