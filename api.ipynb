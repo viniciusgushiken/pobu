{
 "cells": [
  {
   "cell_type": "code",
   "execution_count": 38,
   "id": "0fabfc95-c77a-4916-9a61-993a3e832f75",
   "metadata": {},
   "outputs": [],
   "source": [
    "import requests\n",
    "import pandas as pd\n",
    "import getpass"
   ]
  },
  {
   "cell_type": "code",
   "execution_count": 39,
   "id": "72dbfc6f-6f89-46ee-ab61-d25bc26ea633",
   "metadata": {},
   "outputs": [
    {
     "name": "stdin",
     "output_type": "stream",
     "text": [
      " ································\n"
     ]
    }
   ],
   "source": [
    "api_key = getpass.getpass()"
   ]
  },
  {
   "cell_type": "code",
   "execution_count": 40,
   "id": "ca4b4d85-7a23-4c88-a087-42d0ab603f35",
   "metadata": {},
   "outputs": [],
   "source": [
    "# URL, uma espécie de caminho que indica onde um recurso pode ser encontrado\n",
    "url = \"http://api.portaldatransparencia.gov.br/api-de-dados/auxilio-emergencial-por-municipio\""
   ]
  },
  {
   "cell_type": "code",
   "execution_count": 41,
   "id": "600af7e4-8bcb-4a02-846a-350e8d51db02",
   "metadata": {},
   "outputs": [],
   "source": [
    "# Captura o período a ser consultado, formato AAAAMM\n",
    "mesAno = 202004\n",
    "# Captura o código IBGE\n",
    "codigoIbge = 3550308\n",
    "# Valor fixo na consulta, já que o serviço retorna somente uma página\n",
    "pagina = 1\n",
    "# Cria o dicionário com as informações capturadas\n",
    "params = {'mesAno':mesAno, 'codigoIbge':codigoIbge, 'pagina':pagina}"
   ]
  },
  {
   "cell_type": "code",
   "execution_count": 42,
   "id": "abb3f642-9bf1-47cd-8f81-1a25a813ec24",
   "metadata": {},
   "outputs": [],
   "source": [
    "headers = {\"chave-api-dados\" : api_key}"
   ]
  },
  {
   "cell_type": "code",
   "execution_count": 43,
   "id": "a6870b85-7a50-4ca8-9dd4-f94ccd5bb309",
   "metadata": {},
   "outputs": [
    {
     "name": "stdout",
     "output_type": "stream",
     "text": [
      "<Response [200]>\n"
     ]
    }
   ],
   "source": [
    "#chamando a função e salvando seu resultado\n",
    "resultado = requests.get(url, params=params, headers=headers)\n",
    "print(resultado)"
   ]
  },
  {
   "cell_type": "code",
   "execution_count": 44,
   "id": "5c59e59b-609d-4e76-9de5-d86d0f1cddef",
   "metadata": {},
   "outputs": [
    {
     "data": {
      "text/plain": [
       "[{'id': 138009075,\n",
       "  'dataReferencia': '2020-04-01',\n",
       "  'municipio': {'codigoIBGE': '3550308',\n",
       "   'nomeIBGE': 'SÃO PAULO',\n",
       "   'codigoRegiao': '3',\n",
       "   'nomeRegiao': 'SUDESTE',\n",
       "   'pais': 'BRASIL',\n",
       "   'uf': {'sigla': 'SP', 'nome': 'SÃO PAULO'}},\n",
       "  'tipo': {'id': 6,\n",
       "   'descricao': 'Auxílio Emergencial',\n",
       "   'descricaoDetalhada': 'Auxílio Emergencial'},\n",
       "  'valor': 1684330800.0,\n",
       "  'quantidadeBeneficiados': 2342946}]"
      ]
     },
     "execution_count": 44,
     "metadata": {},
     "output_type": "execute_result"
    }
   ],
   "source": [
    "dado = resultado.json()\n",
    "dado"
   ]
  },
  {
   "cell_type": "code",
   "execution_count": 25,
   "id": "4555a56d-5fc1-458a-96c6-3e09252f5c27",
   "metadata": {},
   "outputs": [
    {
     "name": "stdout",
     "output_type": "stream",
     "text": [
      "4\n",
      "5\n",
      "6\n",
      "7\n",
      "8\n",
      "9\n",
      "10\n",
      "11\n",
      "12\n"
     ]
    }
   ],
   "source": [
    "for i in range(4,13):\n",
    "    print(i)"
   ]
  },
  {
   "cell_type": "code",
   "execution_count": 31,
   "id": "34f8616a-fdd6-49bc-88ef-57528a5f492c",
   "metadata": {},
   "outputs": [],
   "source": [
    "# Captura o período a ser consultado, formato AAAAMM\n",
    "mesAno = 202003\n",
    "# Captura o código IBGE\n",
    "codigoIbge = 3550308\n",
    "# Valor fixo na consulta, já que o serviço retorna somente uma página\n",
    "pagina = 1\n",
    "# Cria o dicionário com as informações capturadas\n",
    "params = {'mesAno':mesAno, 'codigoIbge':codigoIbge, 'pagina':pagina}\n",
    "\n",
    "responses = []\n",
    "for i in range(4,13):\n",
    "    mesAno += 1\n",
    "    # Cria o dicionário com as informações capturadas\n",
    "    params = {'mesAno':mesAno, 'codigoIbge':codigoIbge, 'pagina':pagina}\n",
    "    response = requests.get(url, params=params, headers=headers)\n",
    "    responses.append(response.json())"
   ]
  },
  {
   "cell_type": "code",
   "execution_count": 32,
   "id": "2180203f-5120-4f20-9e1c-d2774b147c62",
   "metadata": {},
   "outputs": [
    {
     "data": {
      "text/plain": [
       "[[{'id': 138009075,\n",
       "   'dataReferencia': '2020-04-01',\n",
       "   'municipio': {'codigoIBGE': '3550308',\n",
       "    'nomeIBGE': 'SÃO PAULO',\n",
       "    'codigoRegiao': '3',\n",
       "    'nomeRegiao': 'SUDESTE',\n",
       "    'pais': 'BRASIL',\n",
       "    'uf': {'sigla': 'SP', 'nome': 'SÃO PAULO'}},\n",
       "   'tipo': {'id': 6,\n",
       "    'descricao': 'Auxílio Emergencial',\n",
       "    'descricaoDetalhada': 'Auxílio Emergencial'},\n",
       "   'valor': 1684330800.0,\n",
       "   'quantidadeBeneficiados': 2342946}],\n",
       " [{'id': 155008046,\n",
       "   'dataReferencia': '2020-05-01',\n",
       "   'municipio': {'codigoIBGE': '3550308',\n",
       "    'nomeIBGE': 'SÃO PAULO',\n",
       "    'codigoRegiao': '3',\n",
       "    'nomeRegiao': 'SUDESTE',\n",
       "    'pais': 'BRASIL',\n",
       "    'uf': {'sigla': 'SP', 'nome': 'SÃO PAULO'}},\n",
       "   'tipo': {'id': 6,\n",
       "    'descricao': 'Auxílio Emergencial',\n",
       "    'descricaoDetalhada': 'Auxílio Emergencial'},\n",
       "   'valor': 2105451000.0,\n",
       "   'quantidadeBeneficiados': 2933053}],\n",
       " [{'id': 130308644,\n",
       "   'dataReferencia': '2020-06-01',\n",
       "   'municipio': {'codigoIBGE': '3550308',\n",
       "    'nomeIBGE': 'SÃO PAULO',\n",
       "    'codigoRegiao': '3',\n",
       "    'nomeRegiao': 'SUDESTE',\n",
       "    'pais': 'BRASIL',\n",
       "    'uf': {'sigla': 'SP', 'nome': 'SÃO PAULO'}},\n",
       "   'tipo': {'id': 6,\n",
       "    'descricao': 'Auxílio Emergencial',\n",
       "    'descricaoDetalhada': 'Auxílio Emergencial'},\n",
       "   'valor': 1219118400.0,\n",
       "   'quantidadeBeneficiados': 1669838}],\n",
       " [{'id': 137307967,\n",
       "   'dataReferencia': '2020-07-01',\n",
       "   'municipio': {'codigoIBGE': '3550308',\n",
       "    'nomeIBGE': 'SÃO PAULO',\n",
       "    'codigoRegiao': '3',\n",
       "    'nomeRegiao': 'SUDESTE',\n",
       "    'pais': 'BRASIL',\n",
       "    'uf': {'sigla': 'SP', 'nome': 'SÃO PAULO'}},\n",
       "   'tipo': {'id': 6,\n",
       "    'descricao': 'Auxílio Emergencial',\n",
       "    'descricaoDetalhada': 'Auxílio Emergencial'},\n",
       "   'valor': 2182657200.0,\n",
       "   'quantidadeBeneficiados': 3094997}],\n",
       " [{'id': 148508521,\n",
       "   'dataReferencia': '2020-08-01',\n",
       "   'municipio': {'codigoIBGE': '3550308',\n",
       "    'nomeIBGE': 'SÃO PAULO',\n",
       "    'codigoRegiao': '3',\n",
       "    'nomeRegiao': 'SUDESTE',\n",
       "    'pais': 'BRASIL',\n",
       "    'uf': {'sigla': 'SP', 'nome': 'SÃO PAULO'}},\n",
       "   'tipo': {'id': 6,\n",
       "    'descricao': 'Auxílio Emergencial',\n",
       "    'descricaoDetalhada': 'Auxílio Emergencial'},\n",
       "   'valor': 1912524600.0,\n",
       "   'quantidadeBeneficiados': 2687012}],\n",
       " [{'id': 137808372,\n",
       "   'dataReferencia': '2020-09-01',\n",
       "   'municipio': {'codigoIBGE': '3550308',\n",
       "    'nomeIBGE': 'SÃO PAULO',\n",
       "    'codigoRegiao': '3',\n",
       "    'nomeRegiao': 'SUDESTE',\n",
       "    'pais': 'BRASIL',\n",
       "    'uf': {'sigla': 'SP', 'nome': 'SÃO PAULO'}},\n",
       "   'tipo': {'id': 6,\n",
       "    'descricao': 'Auxílio Emergencial',\n",
       "    'descricaoDetalhada': 'Auxílio Emergencial'},\n",
       "   'valor': 1963493710.0,\n",
       "   'quantidadeBeneficiados': 3240283}],\n",
       " [{'id': 152508316,\n",
       "   'dataReferencia': '2020-10-01',\n",
       "   'municipio': {'codigoIBGE': '3550308',\n",
       "    'nomeIBGE': 'SÃO PAULO',\n",
       "    'codigoRegiao': '3',\n",
       "    'nomeRegiao': 'SUDESTE',\n",
       "    'pais': 'BRASIL',\n",
       "    'uf': {'sigla': 'SP', 'nome': 'SÃO PAULO'}},\n",
       "   'tipo': {'id': 6,\n",
       "    'descricao': 'Auxílio Emergencial',\n",
       "    'descricaoDetalhada': 'Auxílio Emergencial'},\n",
       "   'valor': 1256742402.0,\n",
       "   'quantidadeBeneficiados': 2893709}],\n",
       " [{'id': 155807511,\n",
       "   'dataReferencia': '2020-11-01',\n",
       "   'municipio': {'codigoIBGE': '3550308',\n",
       "    'nomeIBGE': 'SÃO PAULO',\n",
       "    'codigoRegiao': '3',\n",
       "    'nomeRegiao': 'SUDESTE',\n",
       "    'pais': 'BRASIL',\n",
       "    'uf': {'sigla': 'SP', 'nome': 'SÃO PAULO'}},\n",
       "   'tipo': {'id': 6,\n",
       "    'descricao': 'Auxílio Emergencial',\n",
       "    'descricaoDetalhada': 'Auxílio Emergencial'},\n",
       "   'valor': 1644342682.0,\n",
       "   'quantidadeBeneficiados': 3048909}],\n",
       " [{'id': 135708140,\n",
       "   'dataReferencia': '2020-12-01',\n",
       "   'municipio': {'codigoIBGE': '3550308',\n",
       "    'nomeIBGE': 'SÃO PAULO',\n",
       "    'codigoRegiao': '3',\n",
       "    'nomeRegiao': 'SUDESTE',\n",
       "    'pais': 'BRASIL',\n",
       "    'uf': {'sigla': 'SP', 'nome': 'SÃO PAULO'}},\n",
       "   'tipo': {'id': 6,\n",
       "    'descricao': 'Auxílio Emergencial',\n",
       "    'descricaoDetalhada': 'Auxílio Emergencial'},\n",
       "   'valor': 1489903888.0,\n",
       "   'quantidadeBeneficiados': 2947039}]]"
      ]
     },
     "execution_count": 32,
     "metadata": {},
     "output_type": "execute_result"
    }
   ],
   "source": [
    "responses"
   ]
  },
  {
   "cell_type": "code",
   "execution_count": 19,
   "id": "159f2836-de1a-4eb3-9afd-5515f94a7035",
   "metadata": {},
   "outputs": [
    {
     "name": "stdout",
     "output_type": "stream",
     "text": [
      "1\n",
      "2\n",
      "3\n",
      "4\n"
     ]
    }
   ],
   "source": [
    "ano = 0\n",
    "for i in range(4):\n",
    "    ano += 1\n",
    "    print(ano)"
   ]
  },
  {
   "cell_type": "code",
   "execution_count": null,
   "id": "1f7098ae-a1c1-4fec-a65a-937eef0a6028",
   "metadata": {},
   "outputs": [],
   "source": [
    "responses = []\n",
    "for i in np.arange(1,4): \n",
    "    response = requests.request(method='get',url=url_auth,params={'ips':ip_array[i]})\n",
    "    responses.append(response.json())"
   ]
  },
  {
   "cell_type": "code",
   "execution_count": 14,
   "id": "95e685d9-91ca-4ce9-800c-7a11d99e0e39",
   "metadata": {},
   "outputs": [
    {
     "data": {
      "text/plain": [
       "{'sigla': 'SP', 'nome': 'SÃO PAULO'}"
      ]
     },
     "execution_count": 14,
     "metadata": {},
     "output_type": "execute_result"
    }
   ],
   "source": [
    "dado[0]['municipio']['uf']"
   ]
  },
  {
   "cell_type": "code",
   "execution_count": 15,
   "id": "30ec1b77-8f59-4b98-96db-c343c9b67ec4",
   "metadata": {},
   "outputs": [
    {
     "data": {
      "text/plain": [
       "list"
      ]
     },
     "execution_count": 15,
     "metadata": {},
     "output_type": "execute_result"
    }
   ],
   "source": [
    "type(dado)"
   ]
  },
  {
   "cell_type": "code",
   "execution_count": 33,
   "id": "6defb521-51f2-49dc-8d7c-a6a1da3e12d1",
   "metadata": {},
   "outputs": [
    {
     "ename": "AttributeError",
     "evalue": "'list' object has no attribute 'values'",
     "output_type": "error",
     "traceback": [
      "\u001b[0;31m---------------------------------------------------------------------------\u001b[0m",
      "\u001b[0;31mAttributeError\u001b[0m                            Traceback (most recent call last)",
      "\u001b[0;32m/var/folders/b3/8rfpcgzj79l4px98d5dpfbj40000gn/T/ipykernel_36770/3234921725.py\u001b[0m in \u001b[0;36m<module>\u001b[0;34m\u001b[0m\n\u001b[0;32m----> 1\u001b[0;31m \u001b[0mpd\u001b[0m\u001b[0;34m.\u001b[0m\u001b[0mjson_normalize\u001b[0m\u001b[0;34m(\u001b[0m\u001b[0mresponses\u001b[0m\u001b[0;34m,\u001b[0m \u001b[0mmax_level\u001b[0m\u001b[0;34m=\u001b[0m\u001b[0;36m1\u001b[0m\u001b[0;34m)\u001b[0m\u001b[0;34m\u001b[0m\u001b[0;34m\u001b[0m\u001b[0m\n\u001b[0m",
      "\u001b[0;32m~/opt/anaconda3/lib/python3.9/site-packages/pandas/io/json/_normalize.py\u001b[0m in \u001b[0;36m_json_normalize\u001b[0;34m(data, record_path, meta, meta_prefix, record_prefix, errors, sep, max_level)\u001b[0m\n\u001b[1;32m    436\u001b[0m \u001b[0;34m\u001b[0m\u001b[0m\n\u001b[1;32m    437\u001b[0m     \u001b[0;32mif\u001b[0m \u001b[0mrecord_path\u001b[0m \u001b[0;32mis\u001b[0m \u001b[0;32mNone\u001b[0m\u001b[0;34m:\u001b[0m\u001b[0;34m\u001b[0m\u001b[0;34m\u001b[0m\u001b[0m\n\u001b[0;32m--> 438\u001b[0;31m         \u001b[0;32mif\u001b[0m \u001b[0many\u001b[0m\u001b[0;34m(\u001b[0m\u001b[0;34m[\u001b[0m\u001b[0misinstance\u001b[0m\u001b[0;34m(\u001b[0m\u001b[0mx\u001b[0m\u001b[0;34m,\u001b[0m \u001b[0mdict\u001b[0m\u001b[0;34m)\u001b[0m \u001b[0;32mfor\u001b[0m \u001b[0mx\u001b[0m \u001b[0;32min\u001b[0m \u001b[0my\u001b[0m\u001b[0;34m.\u001b[0m\u001b[0mvalues\u001b[0m\u001b[0;34m(\u001b[0m\u001b[0;34m)\u001b[0m\u001b[0;34m]\u001b[0m \u001b[0;32mfor\u001b[0m \u001b[0my\u001b[0m \u001b[0;32min\u001b[0m \u001b[0mdata\u001b[0m\u001b[0;34m)\u001b[0m\u001b[0;34m:\u001b[0m\u001b[0;34m\u001b[0m\u001b[0;34m\u001b[0m\u001b[0m\n\u001b[0m\u001b[1;32m    439\u001b[0m             \u001b[0;31m# naive normalization, this is idempotent for flat records\u001b[0m\u001b[0;34m\u001b[0m\u001b[0;34m\u001b[0m\u001b[0m\n\u001b[1;32m    440\u001b[0m             \u001b[0;31m# and potentially will inflate the data considerably for\u001b[0m\u001b[0;34m\u001b[0m\u001b[0;34m\u001b[0m\u001b[0m\n",
      "\u001b[0;32m~/opt/anaconda3/lib/python3.9/site-packages/pandas/io/json/_normalize.py\u001b[0m in \u001b[0;36m<genexpr>\u001b[0;34m(.0)\u001b[0m\n\u001b[1;32m    436\u001b[0m \u001b[0;34m\u001b[0m\u001b[0m\n\u001b[1;32m    437\u001b[0m     \u001b[0;32mif\u001b[0m \u001b[0mrecord_path\u001b[0m \u001b[0;32mis\u001b[0m \u001b[0;32mNone\u001b[0m\u001b[0;34m:\u001b[0m\u001b[0;34m\u001b[0m\u001b[0;34m\u001b[0m\u001b[0m\n\u001b[0;32m--> 438\u001b[0;31m         \u001b[0;32mif\u001b[0m \u001b[0many\u001b[0m\u001b[0;34m(\u001b[0m\u001b[0;34m[\u001b[0m\u001b[0misinstance\u001b[0m\u001b[0;34m(\u001b[0m\u001b[0mx\u001b[0m\u001b[0;34m,\u001b[0m \u001b[0mdict\u001b[0m\u001b[0;34m)\u001b[0m \u001b[0;32mfor\u001b[0m \u001b[0mx\u001b[0m \u001b[0;32min\u001b[0m \u001b[0my\u001b[0m\u001b[0;34m.\u001b[0m\u001b[0mvalues\u001b[0m\u001b[0;34m(\u001b[0m\u001b[0;34m)\u001b[0m\u001b[0;34m]\u001b[0m \u001b[0;32mfor\u001b[0m \u001b[0my\u001b[0m \u001b[0;32min\u001b[0m \u001b[0mdata\u001b[0m\u001b[0;34m)\u001b[0m\u001b[0;34m:\u001b[0m\u001b[0;34m\u001b[0m\u001b[0;34m\u001b[0m\u001b[0m\n\u001b[0m\u001b[1;32m    439\u001b[0m             \u001b[0;31m# naive normalization, this is idempotent for flat records\u001b[0m\u001b[0;34m\u001b[0m\u001b[0;34m\u001b[0m\u001b[0m\n\u001b[1;32m    440\u001b[0m             \u001b[0;31m# and potentially will inflate the data considerably for\u001b[0m\u001b[0;34m\u001b[0m\u001b[0;34m\u001b[0m\u001b[0m\n",
      "\u001b[0;31mAttributeError\u001b[0m: 'list' object has no attribute 'values'"
     ]
    }
   ],
   "source": [
    "pd.json_normalize(responses, max_level=1)"
   ]
  },
  {
   "cell_type": "code",
   "execution_count": null,
   "id": "ccd23093-7d26-4813-805a-e62536cd8fb9",
   "metadata": {},
   "outputs": [],
   "source": []
  }
 ],
 "metadata": {
  "kernelspec": {
   "display_name": "Python 3 (ipykernel)",
   "language": "python",
   "name": "python3"
  },
  "language_info": {
   "codemirror_mode": {
    "name": "ipython",
    "version": 3
   },
   "file_extension": ".py",
   "mimetype": "text/x-python",
   "name": "python",
   "nbconvert_exporter": "python",
   "pygments_lexer": "ipython3",
   "version": "3.9.7"
  },
  "toc-autonumbering": true
 },
 "nbformat": 4,
 "nbformat_minor": 5
}
